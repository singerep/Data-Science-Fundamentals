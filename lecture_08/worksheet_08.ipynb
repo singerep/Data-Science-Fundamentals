{
 "cells": [
  {
   "attachments": {},
   "cell_type": "markdown",
   "metadata": {},
   "source": [
    "# Worksheet 08\n",
    "\n",
    "Name:  \n",
    "UID: \n",
    "\n",
    "### Topics\n",
    "\n",
    "- Soft Clustering\n",
    "- Clustering Aggregation\n",
    "\n",
    "### Probability Review\n",
    "\n",
    "Read through [the following](https://medium.com/@gallettilance/overview-of-probability-3272b72c82c8)\n",
    "\n",
    "### Soft Clustering\n",
    "\n",
    "We generate 10 data points that come from a normal distribution with mean 5 and variance 1."
   ]
  },
  {
   "cell_type": "code",
   "execution_count": 2,
   "metadata": {},
   "outputs": [
    {
     "name": "stdout",
     "output_type": "stream",
     "text": [
      "[5.784208388776837, 5.454749029093103, 4.83448796560567, 4.457465714923971, 4.276354112051536, 4.672357114590641, 6.40048407711412, 5.287558207740122, 6.570378517437532, 5.329371844299757]\n"
     ]
    }
   ],
   "source": [
    "import random\n",
    "import numpy as np\n",
    "from sklearn.cluster import KMeans\n",
    "\n",
    "mean = 5\n",
    "stdev = 1\n",
    "\n",
    "s1 = np.random.normal(mean, stdev, 10).tolist()\n",
    "print(s1)"
   ]
  },
  {
   "cell_type": "markdown",
   "metadata": {},
   "source": [
    "a) Generate 10 more data points, this time coming from a normal distribution with mean 8 and variance 1."
   ]
  },
  {
   "cell_type": "code",
   "execution_count": 3,
   "metadata": {},
   "outputs": [
    {
     "name": "stdout",
     "output_type": "stream",
     "text": [
      "[5.624278880540896, 9.138435410943696, 9.150321001324368, 7.392630916074368, 7.649772025129963, 8.722007067100698, 9.408098801483714, 7.303670951602387, 8.942826625366061, 7.545419193131037]\n"
     ]
    }
   ],
   "source": [
    "s2 = np.random.normal(8 , 1, 10).tolist()\n",
    "print(s2)"
   ]
  },
  {
   "attachments": {},
   "cell_type": "markdown",
   "metadata": {},
   "source": [
    "b) Flip a fair coin 10 times. If the coin lands on H, then pick the last data point of `s1` and remove it from `s1`, if T then pick the last data point from `s2` and remove it from `s2`. Add these 10 points to a list called `data`."
   ]
  },
  {
   "cell_type": "code",
   "execution_count": 4,
   "metadata": {},
   "outputs": [
    {
     "name": "stdout",
     "output_type": "stream",
     "text": [
      "[7.545419193131037, 8.942826625366061, 7.303670951602387, 9.408098801483714, 8.722007067100698, 5.329371844299757, 7.649772025129963, 6.570378517437532, 5.287558207740122, 6.40048407711412]\n"
     ]
    }
   ],
   "source": [
    "data = []\n",
    "for i in range(10):\n",
    "    # flip coin\n",
    "    coin_output = random.choice([0, 1])\n",
    "    if coin_output == 0:\n",
    "        p1 = s1.pop()\n",
    "        data.append(p1)\n",
    "    else:\n",
    "        p2 = s2.pop()\n",
    "        data.append(p2)\n",
    "print(data)"
   ]
  },
  {
   "cell_type": "markdown",
   "metadata": {},
   "source": [
    "c) This `data` is a Gaussian Mixture Distribution with 2 mixture components. Over the next few questions we will walk through the GMM algorithm to see if we can uncover the parameters we used to generate this data. First, please list all these parameters of the GMM that created `data` and the values we know they have."
   ]
  },
  {
   "cell_type": "markdown",
   "metadata": {},
   "source": [
    "mu1, sd1, mu2, sd2"
   ]
  },
  {
   "cell_type": "markdown",
   "metadata": {},
   "source": [
    "d) Let's assume there are two mixture components (note: we could plot the data and make the observation that there are two clusters). The EM algorithm asks us to start with a random `mean_j`, `variance_j`, `P(S_j)` for each component j. One method we could use to find sensible values for these is to apply K means with k=2 here.\n",
    "\n",
    "1. the centroids would be the estimates of the `mean_j`\n",
    "2. the intra-cluster variance could be the estimate of `variance_j`\n",
    "3. the proportion of points in each cluster could be the estimate of `P(S_j)`\n",
    "\n",
    "Go through this process and list the parameter estimates it gives. Are they close or far from the true values?"
   ]
  },
  {
   "cell_type": "code",
   "execution_count": 5,
   "metadata": {},
   "outputs": [
    {
     "name": "stdout",
     "output_type": "stream",
     "text": [
      "[7.545419193131037, 8.942826625366061, 7.303670951602387, 9.408098801483714, 8.722007067100698, 7.649772025129963]\n",
      "[5.329371844299757, 6.570378517437532, 5.287558207740122, 6.40048407711412]\n",
      "P(S_1) = 0.6,  P(S_2) = 0.4\n",
      "mean_1 = 8.26196577730231,  mean_2 = 5.896948161647883\n",
      "var_1 = 0.6325632603857145,  var_2 = 0.3501389635503895\n"
     ]
    }
   ],
   "source": [
    "kmeans = KMeans(2, init='k-means++').fit(X=np.array(data).reshape(-1, 1))\n",
    "\n",
    "s1 = [x[0] for x in filter(lambda x: x[1] == 0, zip(data, kmeans.labels_))]\n",
    "print(s1)\n",
    "s2 = [x[0] for x in filter(lambda x: x[1] == 1, zip(data, kmeans.labels_))]\n",
    "print(s2)\n",
    "\n",
    "prob_s = [ len(s1) / (len(s1) + len(s2)) , len(s2) / (len(s1) + len(s2)) ]\n",
    "mean = [ sum(s1)/len(s1) , sum(s2)/len(s2) ]\n",
    "var = [ sum(map(lambda x : (x - mean[0])**2, s1)) / len(s1) , sum(map(lambda x : (x - mean[1])**2, s2)) / len(s2) ]\n",
    "\n",
    "print(\"P(S_1) = \" + str(prob_s[0]) + \",  P(S_2) = \" + str(prob_s[1]))\n",
    "print(\"mean_1 = \" + str(mean[0]) + \",  mean_2 = \" + str(mean[1]))\n",
    "print(\"var_1 = \" + str(var[0]) + \",  var_2 = \" + str(var[1]))"
   ]
  },
  {
   "cell_type": "markdown",
   "metadata": {},
   "source": [
    "The actual means were 8 and 5, which are relatively close to the estimates. The estimated variances were both a little low."
   ]
  },
  {
   "cell_type": "markdown",
   "metadata": {},
   "source": [
    "e) For each data point, compute `P(S_j | X_i)`. Comment on which cluster you think each point belongs to based on the estimated probabilities. How does that compare to the truth?"
   ]
  },
  {
   "cell_type": "code",
   "execution_count": 6,
   "metadata": {},
   "outputs": [
    {
     "name": "stdout",
     "output_type": "stream",
     "text": [
      "point =  7.545419193131037\n",
      "probability of observing that point if it came from cluster 0 =  0.33202544827604774\n",
      "probability of observing that point if it came from cluster 1 =  1.751643203351435e-05\n",
      "point =  8.942826625366061\n",
      "probability of observing that point if it came from cluster 0 =  0.35337321992479054\n",
      "probability of observing that point if it came from cluster 1 =  4.210768902917292e-17\n",
      "point =  7.303670951602387\n",
      "probability of observing that point if it came from cluster 0 =  0.20019092417625245\n",
      "probability of observing that point if it came from cluster 1 =  0.0003561638186336372\n",
      "point =  9.408098801483714\n",
      "probability of observing that point if it came from cluster 0 =  0.12215917378502483\n",
      "probability of observing that point if it came from cluster 1 =  1.6622879653734864e-22\n",
      "point =  8.722007067100698\n",
      "probability of observing that point if it came from cluster 0 =  0.4841207731578344\n",
      "probability of observing that point if it came from cluster 1 =  8.329279283122855e-15\n",
      "point =  5.329371844299757\n",
      "probability of observing that point if it came from cluster 0 =  1.3572889469225036e-05\n",
      "probability of observing that point if it came from cluster 1 =  0.30625451814411253\n",
      "point =  7.649772025129963\n",
      "probability of observing that point if it came from cluster 0 =  0.39483772538665585\n",
      "probability of observing that point if it came from cluster 1 =  4.118857564617765e-06\n",
      "point =  6.570378517437532\n",
      "probability of observing that point if it came from cluster 0 =  0.017657765681812543\n",
      "probability of observing that point if it came from cluster 1 =  0.17922751682232255\n",
      "point =  5.287558207740122\n",
      "probability of observing that point if it came from cluster 0 =  9.968578694019303e-06\n",
      "probability of observing that point if it came from cluster 1 =  0.2505617907022279\n",
      "point =  6.40048407711412\n",
      "probability of observing that point if it came from cluster 0 =  0.008305137739190872\n",
      "probability of observing that point if it came from cluster 1 =  0.40511529373070576\n",
      "7.545419193131037\n",
      "Probability of coming from S_1 = 0.9999648303745429\n",
      "Probability of coming from S_2 = 3.516962545713794e-05\n",
      "P(S_1) > P(S_2)\n",
      "8.942826625366061\n",
      "Probability of coming from S_1 = 0.9999999999999999\n",
      "Probability of coming from S_2 = 7.943950221267442e-17\n",
      "P(S_1) > P(S_2)\n",
      "7.303670951602387\n",
      "Probability of coming from S_1 = 0.9988153246487056\n",
      "Probability of coming from S_2 = 0.0011846753512944014\n",
      "P(S_1) > P(S_2)\n",
      "9.408098801483714\n",
      "Probability of coming from S_1 = 1.0\n",
      "Probability of coming from S_2 = 9.07170491236171e-22\n",
      "P(S_1) > P(S_2)\n",
      "8.722007067100698\n",
      "Probability of coming from S_1 = 0.9999999999999886\n",
      "Probability of coming from S_2 = 1.1469974360312808e-14\n",
      "P(S_1) > P(S_2)\n",
      "5.329371844299757\n",
      "Probability of coming from S_1 = 6.647405876532904e-05\n",
      "Probability of coming from S_2 = 0.9999335259412346\n",
      "P(S_2) > P(S_1)\n",
      "7.649772025129963\n",
      "Probability of coming from S_1 = 0.9999930455329615\n",
      "Probability of coming from S_2 = 6.9544670385369386e-06\n",
      "P(S_1) > P(S_2)\n",
      "6.570378517437532\n",
      "Probability of coming from S_1 = 0.12875461676784944\n",
      "Probability of coming from S_2 = 0.8712453832321506\n",
      "P(S_2) > P(S_1)\n",
      "5.287558207740122\n",
      "Probability of coming from S_1 = 5.967380622789417e-05\n",
      "Probability of coming from S_2 = 0.9999403261937722\n",
      "P(S_2) > P(S_1)\n",
      "6.40048407711412\n",
      "Probability of coming from S_1 = 0.029833601786174002\n",
      "Probability of coming from S_2 = 0.970166398213826\n",
      "P(S_2) > P(S_1)\n"
     ]
    }
   ],
   "source": [
    "from scipy.stats import norm\n",
    "\n",
    "prob_s0_x = [] # P(S_0 | X_i)\n",
    "prob_s1_x = [] # P(S_1 | X_i)\n",
    "prob_x = [] # P(X_i)\n",
    "\n",
    "k = 2\n",
    "\n",
    "for p in data:\n",
    "    print(\"point = \", p)\n",
    "    pdf_i = []\n",
    "\n",
    "    for j in range(k):\n",
    "        # P(X_i | S_j)\n",
    "        pdf_i.append(norm.pdf(p, mean[j], var[j]))\n",
    "        print(\"probability of observing that point if it came from cluster \" + str(j) + \" = \", pdf_i[j])\n",
    "        # P(S_j) already computed\n",
    "        prob_s[j]\n",
    "\n",
    "    # P(X_i) = P(S_0)P(X_i | S_0) + P(S_1)P(X_i | S_1)\n",
    "    prob_x = prob_s[0] * pdf_i[0] + prob_s[1] * pdf_i[1]\n",
    "\n",
    "    # P(S_j | X_i) = P(X_i | S_j)P(S_j) / P(X_i)\n",
    "    prob_s0_x.append( pdf_i[0] * prob_s[0] / prob_x )\n",
    "    prob_s1_x.append( pdf_i[1] * prob_s[1] / prob_x )\n",
    "\n",
    "probs = zip(data, prob_s0_x, prob_s1_x)\n",
    "for p in probs:\n",
    "    print(p[0])\n",
    "    print(\"Probability of coming from S_1 = \" + str(p[1]))\n",
    "    print(\"Probability of coming from S_2 = \" + str(p[2]))\n",
    "\n",
    "    if(p[1] > p[2]):\n",
    "        print(\"P(S_1) > P(S_2)\")\n",
    "    else:\n",
    "        print(\"P(S_2) > P(S_1)\")\n"
   ]
  },
  {
   "cell_type": "markdown",
   "metadata": {},
   "source": [
    "f) Having computed `P(S_j | X_i)`, update the estimates of `mean_j`, `var_j`, and `P(S_j)`. How different are these values from the original ones you got from K means? briefly comment."
   ]
  },
  {
   "cell_type": "code",
   "execution_count": 7,
   "metadata": {},
   "outputs": [
    {
     "name": "stdout",
     "output_type": "stream",
     "text": [
      "P(S_1) = 0.6,  P(S_2) = 0.4\n",
      "mean_1 = 8.21770387999252,  mean_2 = 5.870944657558112\n",
      "var_1 = 0.691046681899297,  var_2 = 0.3472779209262448\n"
     ]
    }
   ],
   "source": [
    "prob_c = [sum(prob_s0_x)/ len(prob_s0_x), sum(prob_s1_x)/ len(prob_s1_x) ]\n",
    "mean = [sum([x[0] * x[1] for x in zip(prob_s0_x, data)]) / sum(prob_s0_x), sum([x[0] * x[1] for x in zip(prob_s1_x, data)]) / sum(prob_s1_x) ]\n",
    "var = [ sum([x[0] * (x[1] - mean[0]) ** 2 for x in zip(prob_s0_x, data)]) / sum(prob_s0_x) , sum([x[0] * (x[1] - mean[1]) ** 2 for x in zip(prob_s1_x, data)]) / sum(prob_s1_x) ]\n",
    "\n",
    "print(\"P(S_1) = \" + str(prob_s[0]) + \",  P(S_2) = \" + str(prob_s[1]))\n",
    "print(\"mean_1 = \" + str(mean[0]) + \",  mean_2 = \" + str(mean[1]))\n",
    "print(\"var_1 = \" + str(var[0]) + \",  var_2 = \" + str(var[1]))"
   ]
  },
  {
   "cell_type": "markdown",
   "metadata": {},
   "source": [
    "Basically no changes as of yet."
   ]
  },
  {
   "cell_type": "markdown",
   "metadata": {},
   "source": [
    "g) Update `P(S_j | X_i)`. Comment on any differences or lack thereof you observe."
   ]
  },
  {
   "cell_type": "code",
   "execution_count": 10,
   "metadata": {},
   "outputs": [
    {
     "name": "stdout",
     "output_type": "stream",
     "text": [
      "7.545419193131037\n",
      "P(S_1) = 0.9999809537971592\n",
      "P(S_2) = 1.9046202840800353e-05\n",
      "\n",
      "8.942826625366061\n",
      "P(S_1) = 1.0\n",
      "P(S_2) = 2.3508110989347643e-17\n",
      "\n",
      "7.303670951602387\n",
      "P(S_1) = 0.9993596719478407\n",
      "P(S_2) = 0.0006403280521593158\n",
      "\n",
      "9.408098801483714\n",
      "P(S_1) = 1.0\n",
      "P(S_2) = 1.7372046542149092e-22\n",
      "\n",
      "8.722007067100698\n",
      "P(S_1) = 0.999999999999996\n",
      "P(S_2) = 4.00576654767317e-15\n",
      "\n",
      "5.329371844299757\n",
      "P(S_1) = 0.000409011456388844\n",
      "P(S_2) = 0.9995909885436111\n",
      "\n",
      "7.649772025129963\n",
      "P(S_1) = 0.999996266432143\n",
      "P(S_2) = 3.733567856995326e-06\n",
      "\n",
      "6.570378517437532\n",
      "P(S_1) = 0.2505454850111253\n",
      "P(S_2) = 0.7494545149888746\n",
      "\n",
      "5.287558207740122\n",
      "P(S_1) = 0.000385311271745844\n",
      "P(S_2) = 0.9996146887282541\n",
      "\n",
      "6.40048407711412\n",
      "P(S_1) = 0.07059215288088551\n",
      "P(S_2) = 0.9294078471191144\n",
      "\n"
     ]
    }
   ],
   "source": [
    "prob_x = []\n",
    "prob_s0_x = []\n",
    "prob_s1_x = []\n",
    "\n",
    "k = 2\n",
    "\n",
    "for p in data:\n",
    "    pdf_i = []\n",
    "\n",
    "    for j in range(k):\n",
    "        pdf_i.append(norm.pdf(p, mean[j], var[j]))\n",
    "        prob_s[j]\n",
    "\n",
    "    prob_x = prob_s[0] * pdf_i[0] + prob_s[1] * pdf_i[1]\n",
    "\n",
    "    prob_s0_x.append( pdf_i[0] * prob_s[0] / prob_x )\n",
    "    prob_s1_x.append( pdf_i[1] * prob_s[1] / prob_x )\n",
    "\n",
    "probs = list(zip(data, prob_s0_x, prob_s1_x))\n",
    "\n",
    "for p in probs:\n",
    "    print(p[0])\n",
    "    print(\"P(S_1) = \" + str(p[1]))\n",
    "    print(\"P(S_2) = \" + str(p[2]))\n",
    "    print()"
   ]
  },
  {
   "cell_type": "markdown",
   "metadata": {},
   "source": [
    "No changes."
   ]
  },
  {
   "cell_type": "markdown",
   "metadata": {},
   "source": [
    "h) Use `P(S_j | X_i)` to create a hard assignment - label each point as belonging to a specific cluster (0 or 1)"
   ]
  },
  {
   "cell_type": "code",
   "execution_count": 11,
   "metadata": {},
   "outputs": [
    {
     "name": "stdout",
     "output_type": "stream",
     "text": [
      "Data point 7.545419193131037 is assigned to cluster 0\n",
      "Data point 8.942826625366061 is assigned to cluster 0\n",
      "Data point 7.303670951602387 is assigned to cluster 0\n",
      "Data point 9.408098801483714 is assigned to cluster 0\n",
      "Data point 8.722007067100698 is assigned to cluster 0\n",
      "Data point 5.329371844299757 is assigned to cluster 1\n",
      "Data point 7.649772025129963 is assigned to cluster 0\n",
      "Data point 6.570378517437532 is assigned to cluster 1\n",
      "Data point 5.287558207740122 is assigned to cluster 1\n",
      "Data point 6.40048407711412 is assigned to cluster 1\n"
     ]
    }
   ],
   "source": [
    "for p in probs:\n",
    "    if(p[1] > p[2]):\n",
    "        print(\"Data point \" + str(p[0]) + \" is assigned to cluster 0\")\n",
    "    else:\n",
    "        print(\"Data point \" + str(p[0]) + \" is assigned to cluster 1\")"
   ]
  },
  {
   "cell_type": "code",
   "execution_count": null,
   "metadata": {},
   "outputs": [],
   "source": []
  }
 ],
 "metadata": {
  "interpreter": {
   "hash": "33255d5a462886af1c106616c5888bddca29eeece20180867d45369db19d2885"
  },
  "kernelspec": {
   "display_name": "Python 3.9.7 ('base')",
   "language": "python",
   "name": "python3"
  },
  "language_info": {
   "codemirror_mode": {
    "name": "ipython",
    "version": 3
   },
   "file_extension": ".py",
   "mimetype": "text/x-python",
   "name": "python",
   "nbconvert_exporter": "python",
   "pygments_lexer": "ipython3",
   "version": "3.9.7"
  },
  "orig_nbformat": 4,
  "vscode": {
   "interpreter": {
    "hash": "e7370f93d1d0cde622a1f8e1c04877d8463912d04d973331ad4851f04de6915a"
   }
  }
 },
 "nbformat": 4,
 "nbformat_minor": 2
}
